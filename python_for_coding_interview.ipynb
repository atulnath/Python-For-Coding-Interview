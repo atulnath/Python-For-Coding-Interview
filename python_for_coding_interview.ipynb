{
  "nbformat": 4,
  "nbformat_minor": 0,
  "metadata": {
    "colab": {
      "provenance": [],
      "authorship_tag": "ABX9TyP2D7MJsV664tjFdHPlDmBf",
      "include_colab_link": true
    },
    "kernelspec": {
      "name": "python3",
      "display_name": "Python 3"
    },
    "language_info": {
      "name": "python"
    }
  },
  "cells": [
    {
      "cell_type": "markdown",
      "metadata": {
        "id": "view-in-github",
        "colab_type": "text"
      },
      "source": [
        "<a href=\"https://colab.research.google.com/github/atulnath/Python-For-Coding-Interview/blob/main/python_for_coding_interview.ipynb\" target=\"_parent\"><img src=\"https://colab.research.google.com/assets/colab-badge.svg\" alt=\"Open In Colab\"/></a>"
      ]
    },
    {
      "cell_type": "code",
      "execution_count": null,
      "metadata": {
        "id": "jDy-Tlw--Jw6"
      },
      "outputs": [],
      "source": [
        "n = 0"
      ]
    },
    {
      "cell_type": "code",
      "source": [
        "print('n: ', n)"
      ],
      "metadata": {
        "colab": {
          "base_uri": "https://localhost:8080/"
        },
        "id": "SNvPWVfy-dFO",
        "outputId": "7b557b66-6dc1-474f-ecdc-667cab12753d"
      },
      "execution_count": null,
      "outputs": [
        {
          "output_type": "stream",
          "name": "stdout",
          "text": [
            "n:  0\n"
          ]
        }
      ]
    },
    {
      "cell_type": "code",
      "source": [
        "n = \"abc\""
      ],
      "metadata": {
        "id": "tF8lxM0l-i4g"
      },
      "execution_count": null,
      "outputs": []
    },
    {
      "cell_type": "code",
      "source": [
        "print(\"abc\")"
      ],
      "metadata": {
        "colab": {
          "base_uri": "https://localhost:8080/"
        },
        "id": "-8F9qSRQ-p72",
        "outputId": "04d07761-4417-4e73-dbf7-a4e7d047a186"
      },
      "execution_count": null,
      "outputs": [
        {
          "output_type": "stream",
          "name": "stdout",
          "text": [
            "abc\n"
          ]
        }
      ]
    },
    {
      "cell_type": "code",
      "source": [
        "a, b = 0, 1\n",
        "print(\"a: \", a, \"b: \", b)"
      ],
      "metadata": {
        "colab": {
          "base_uri": "https://localhost:8080/"
        },
        "id": "coBd3mJ2-u62",
        "outputId": "3d3b0de4-b092-460a-9d59-5cc978e67682"
      },
      "execution_count": null,
      "outputs": [
        {
          "output_type": "stream",
          "name": "stdout",
          "text": [
            "a:  0 b:  1\n"
          ]
        }
      ]
    },
    {
      "cell_type": "code",
      "source": [
        "x, y = 1, \"XYZ\"\n",
        "print(\"Y: \", y)"
      ],
      "metadata": {
        "colab": {
          "base_uri": "https://localhost:8080/"
        },
        "id": "H02BL0sQ-8wQ",
        "outputId": "6cf3de45-ed7b-4fb7-d564-d6126634ba9f"
      },
      "execution_count": null,
      "outputs": [
        {
          "output_type": "stream",
          "name": "stdout",
          "text": [
            "Y:  XYZ\n"
          ]
        }
      ]
    },
    {
      "cell_type": "code",
      "source": [
        "i = 0\n",
        "i = i + 1\n",
        "print(i)\n",
        "i += 2\n",
        "print(i)"
      ],
      "metadata": {
        "colab": {
          "base_uri": "https://localhost:8080/"
        },
        "id": "hdvodwSO_LGG",
        "outputId": "0ddadfd5-32dd-4346-e806-c7845d49fd5c"
      },
      "execution_count": null,
      "outputs": [
        {
          "output_type": "stream",
          "name": "stdout",
          "text": [
            "1\n",
            "3\n"
          ]
        }
      ]
    },
    {
      "cell_type": "markdown",
      "source": [
        "In Python None is used instead of null like in c type language"
      ],
      "metadata": {
        "id": "3Szla6bG_unY"
      }
    },
    {
      "cell_type": "code",
      "source": [
        "output = None\n",
        "print(output)"
      ],
      "metadata": {
        "colab": {
          "base_uri": "https://localhost:8080/"
        },
        "id": "Ax_7yGs3_5V4",
        "outputId": "9fca18c8-2f2d-4b41-8084-d485a54fe930"
      },
      "execution_count": null,
      "outputs": [
        {
          "output_type": "stream",
          "name": "stdout",
          "text": [
            "None\n"
          ]
        }
      ]
    },
    {
      "cell_type": "markdown",
      "source": [
        "No paranthsis needed for if statement, except multiline if statement, indentation will work as carly braces"
      ],
      "metadata": {
        "id": "GxFPDwRRAF8g"
      }
    },
    {
      "cell_type": "code",
      "source": [
        "num = 5\n",
        "if num > 10:\n",
        "  print(\"Number is grater than 10\")\n",
        "elif num < 6:\n",
        "  print(\"Number is less than 6\")\n",
        "else:\n",
        "  print(\"No conditions executed\")"
      ],
      "metadata": {
        "colab": {
          "base_uri": "https://localhost:8080/"
        },
        "id": "ZHZQbNzRAVbf",
        "outputId": "c1526611-7797-4db4-8d8a-17780885b1b4"
      },
      "execution_count": null,
      "outputs": [
        {
          "output_type": "stream",
          "name": "stdout",
          "text": [
            "Number is less than 6\n"
          ]
        }
      ]
    },
    {
      "cell_type": "markdown",
      "source": [
        "Checking equality is python"
      ],
      "metadata": {
        "id": "5vt5yebTulLG"
      }
    },
    {
      "cell_type": "code",
      "source": [
        "isTrue = True\n",
        "if isTrue == True:\n",
        "  print(\"True\")\n",
        "if isTrue is not False:\n",
        "  print(\"True\")\n",
        "if isTrue:\n",
        "  print(\"True\")"
      ],
      "metadata": {
        "colab": {
          "base_uri": "https://localhost:8080/"
        },
        "id": "L80vTkKSu4Ge",
        "outputId": "c40b521a-d8d3-4b5b-e448-ede54fea621f"
      },
      "execution_count": null,
      "outputs": [
        {
          "output_type": "stream",
          "name": "stdout",
          "text": [
            "True\n",
            "True\n",
            "True\n"
          ]
        }
      ]
    },
    {
      "cell_type": "markdown",
      "source": [
        "For multiple condition we can put parenthesis"
      ],
      "metadata": {
        "id": "PU97ujPavYQe"
      }
    },
    {
      "cell_type": "code",
      "source": [
        "a , b = 4,5\n",
        "\n",
        "if (a == 4 and b == 5\n",
        "  and a%2 == 0):\n",
        "  print(\"This is multiple conditin with parenthesis\")"
      ],
      "metadata": {
        "colab": {
          "base_uri": "https://localhost:8080/"
        },
        "id": "v7AdMa3Gveby",
        "outputId": "beea44bf-5400-411d-f6b2-9eea77f1fd1f"
      },
      "execution_count": null,
      "outputs": [
        {
          "output_type": "stream",
          "name": "stdout",
          "text": [
            "This is multiple conditin with parenthesis\n"
          ]
        }
      ]
    },
    {
      "cell_type": "markdown",
      "source": [
        "We write in python: && as and, || as or"
      ],
      "metadata": {
        "id": "n9-0VGTQwL7H"
      }
    },
    {
      "cell_type": "markdown",
      "source": [
        "# **Lets do the while Loop**"
      ],
      "metadata": {
        "id": "jCvkKqpYwiHX"
      }
    },
    {
      "cell_type": "code",
      "source": [
        "n = 5\n",
        "while n > 0:\n",
        "  print(n)\n",
        "  n -=1"
      ],
      "metadata": {
        "colab": {
          "base_uri": "https://localhost:8080/"
        },
        "id": "KNs9g9vFwrCH",
        "outputId": "a458a053-253d-4dd5-da64-149ebfb9b74f"
      },
      "execution_count": null,
      "outputs": [
        {
          "output_type": "stream",
          "name": "stdout",
          "text": [
            "5\n",
            "4\n",
            "3\n",
            "2\n",
            "1\n"
          ]
        }
      ]
    },
    {
      "cell_type": "markdown",
      "source": [
        "In the previous code n-- is not allowed to use instead we can use n-=1, or n = n-1"
      ],
      "metadata": {
        "id": "Ipov5OrSxF1o"
      }
    },
    {
      "cell_type": "markdown",
      "source": [
        "# **All about for loop:**"
      ],
      "metadata": {
        "id": "y1B7ApP3xYKX"
      }
    },
    {
      "cell_type": "code",
      "source": [
        "for i in range(5):\n",
        "  print(i)"
      ],
      "metadata": {
        "colab": {
          "base_uri": "https://localhost:8080/"
        },
        "id": "uys2_c8Xxdr_",
        "outputId": "8ceaa1d7-7f30-4620-aac6-7b922a413c64"
      },
      "execution_count": null,
      "outputs": [
        {
          "output_type": "stream",
          "name": "stdout",
          "text": [
            "0\n",
            "1\n",
            "2\n",
            "3\n",
            "4\n"
          ]
        }
      ]
    },
    {
      "cell_type": "code",
      "source": [
        "for i in range(2,5):\n",
        "  print(i)"
      ],
      "metadata": {
        "colab": {
          "base_uri": "https://localhost:8080/"
        },
        "id": "KB4NxXPExkMH",
        "outputId": "564bcdd6-c57e-4787-d855-b270bdfb24be"
      },
      "execution_count": null,
      "outputs": [
        {
          "output_type": "stream",
          "name": "stdout",
          "text": [
            "2\n",
            "3\n",
            "4\n"
          ]
        }
      ]
    },
    {
      "cell_type": "code",
      "source": [
        "for i in range(6,2,-1):\n",
        "  print(i)"
      ],
      "metadata": {
        "colab": {
          "base_uri": "https://localhost:8080/"
        },
        "id": "WsNgrft0xuv4",
        "outputId": "41552397-171d-41b5-e0ea-a7de82e559b2"
      },
      "execution_count": null,
      "outputs": [
        {
          "output_type": "stream",
          "name": "stdout",
          "text": [
            "6\n",
            "5\n",
            "4\n",
            "3\n"
          ]
        }
      ]
    },
    {
      "cell_type": "markdown",
      "source": [
        "/ → normal division (float).\n",
        "\n",
        "// → floor division, rounds down\n",
        "Python modulas always satisfy : a=(a//b)×b+(a%b)\n",
        "\n"
      ],
      "metadata": {
        "id": "KFl-Efu9yAKw"
      }
    },
    {
      "cell_type": "code",
      "source": [
        "print(5/2)\n",
        "print(5//2)\n",
        "print(-5/2)\n",
        "print(-5//2)\n",
        "print(10%3)\n",
        "print(-10%3)"
      ],
      "metadata": {
        "colab": {
          "base_uri": "https://localhost:8080/"
        },
        "id": "8V4Hfk8UyGXB",
        "outputId": "be88a973-d911-4bba-cdc4-367b8c54cfdb"
      },
      "execution_count": null,
      "outputs": [
        {
          "output_type": "stream",
          "name": "stdout",
          "text": [
            "2.5\n",
            "2\n",
            "-2.5\n",
            "-3\n",
            "1\n",
            "2\n"
          ]
        }
      ]
    },
    {
      "cell_type": "markdown",
      "source": [
        "Important Math function:\n",
        "math.floor ->\n",
        "math.ceil ->\n",
        "math.sqrt ->\n",
        "math.pow ->\n",
        "float(\"inf\") -- Maximum number ->\n",
        "float(\"-inf\") -- Minimum number"
      ],
      "metadata": {
        "id": "BCQ6giH800u5"
      }
    },
    {
      "cell_type": "code",
      "source": [
        "import math\n",
        "\n",
        "print(math.pow(2,5))"
      ],
      "metadata": {
        "colab": {
          "base_uri": "https://localhost:8080/"
        },
        "id": "Q9O0ahXg1OOQ",
        "outputId": "4cb7b56b-e936-4e37-c2bc-160afeeaf66d"
      },
      "execution_count": null,
      "outputs": [
        {
          "output_type": "stream",
          "name": "stdout",
          "text": [
            "32.0\n"
          ]
        }
      ]
    },
    {
      "cell_type": "markdown",
      "source": [
        "# **Array**"
      ],
      "metadata": {
        "id": "AeXfEqg-1kAn"
      }
    },
    {
      "cell_type": "code",
      "source": [
        "arr = [2,4,5]\n",
        "print(arr)"
      ],
      "metadata": {
        "colab": {
          "base_uri": "https://localhost:8080/"
        },
        "id": "By2Z6YrB1mfB",
        "outputId": "407f044e-c725-46f2-ece2-9d7ed59b9601"
      },
      "execution_count": null,
      "outputs": [
        {
          "output_type": "stream",
          "name": "stdout",
          "text": [
            "[2, 4, 5]\n"
          ]
        }
      ]
    },
    {
      "cell_type": "code",
      "source": [
        "values = [1,3,5,7]\n",
        "values.append(9)\n",
        "values.pop(3)\n",
        "print(values)\n",
        "values.insert(1,2)\n",
        "print(values)"
      ],
      "metadata": {
        "colab": {
          "base_uri": "https://localhost:8080/"
        },
        "id": "bw5y4mHn1tyw",
        "outputId": "dddff203-643a-4c67-f2a1-9571a46058dd"
      },
      "execution_count": null,
      "outputs": [
        {
          "output_type": "stream",
          "name": "stdout",
          "text": [
            "[1, 3, 5, 9]\n",
            "[1, 2, 3, 5, 9]\n"
          ]
        }
      ]
    },
    {
      "cell_type": "code",
      "source": [
        "arr = [1] * 5\n",
        "print(arr)\n"
      ],
      "metadata": {
        "colab": {
          "base_uri": "https://localhost:8080/"
        },
        "id": "Vd_H1sh43Dew",
        "outputId": "81ec8e7e-d030-49bf-8110-c31577c79565"
      },
      "execution_count": null,
      "outputs": [
        {
          "output_type": "stream",
          "name": "stdout",
          "text": [
            "[1, 1, 1, 1, 1]\n"
          ]
        }
      ]
    },
    {
      "cell_type": "code",
      "source": [
        "values = [2,4,5,6]\n",
        "print(values[1:3])\n",
        "print(values[-1])"
      ],
      "metadata": {
        "colab": {
          "base_uri": "https://localhost:8080/"
        },
        "id": "Hbx3Cyf-3RNY",
        "outputId": "dfad381a-8f12-45ab-c7c0-6cf8d84dc762"
      },
      "execution_count": null,
      "outputs": [
        {
          "output_type": "stream",
          "name": "stdout",
          "text": [
            "[4, 5]\n",
            "6\n"
          ]
        }
      ]
    },
    {
      "cell_type": "markdown",
      "source": [
        "Unpacking"
      ],
      "metadata": {
        "id": "y5ggI8F03nvQ"
      }
    },
    {
      "cell_type": "code",
      "source": [
        "x, y, z = [1,2,3]\n",
        "print(x,y,z)"
      ],
      "metadata": {
        "colab": {
          "base_uri": "https://localhost:8080/"
        },
        "id": "LNCEDTBd3ty5",
        "outputId": "7302b642-cc41-4525-9868-bc9fe46b567a"
      },
      "execution_count": null,
      "outputs": [
        {
          "output_type": "stream",
          "name": "stdout",
          "text": [
            "1 2 3\n"
          ]
        }
      ]
    },
    {
      "cell_type": "markdown",
      "source": [
        "Traversing Array"
      ],
      "metadata": {
        "id": "ImPAvSRf37NK"
      }
    },
    {
      "cell_type": "code",
      "source": [
        "SimpleArray = [2,3,4,5,6,7]\n",
        "for num in SimpleArray:\n",
        "  print(num)"
      ],
      "metadata": {
        "colab": {
          "base_uri": "https://localhost:8080/"
        },
        "id": "8tfIGswB39Wq",
        "outputId": "13189536-b1e3-4c40-81ac-f27d28e7dddd"
      },
      "execution_count": null,
      "outputs": [
        {
          "output_type": "stream",
          "name": "stdout",
          "text": [
            "2\n",
            "3\n",
            "4\n",
            "5\n",
            "6\n",
            "7\n"
          ]
        }
      ]
    },
    {
      "cell_type": "code",
      "source": [
        "SimpleArray = [2,3,4,5,6,7]\n",
        "for i in range(len(SimpleArray)):\n",
        "  print(SimpleArray[i])"
      ],
      "metadata": {
        "colab": {
          "base_uri": "https://localhost:8080/"
        },
        "id": "7W8yJjq94ODx",
        "outputId": "b748ab40-4aed-4665-ee61-6d7fff5b0d74"
      },
      "execution_count": null,
      "outputs": [
        {
          "output_type": "stream",
          "name": "stdout",
          "text": [
            "2\n",
            "3\n",
            "4\n",
            "5\n",
            "6\n",
            "7\n"
          ]
        }
      ]
    },
    {
      "cell_type": "code",
      "source": [
        "SimpleArray = [2,3,4,5,6,7]\n",
        "for i, num in enumerate(SimpleArray):\n",
        "  print(i, \"-> \", num)"
      ],
      "metadata": {
        "colab": {
          "base_uri": "https://localhost:8080/"
        },
        "id": "JpweWGm84jiw",
        "outputId": "5e2b8e4f-3275-406d-8c2d-3114e5348428"
      },
      "execution_count": null,
      "outputs": [
        {
          "output_type": "stream",
          "name": "stdout",
          "text": [
            "0 ->  2\n",
            "1 ->  3\n",
            "2 ->  4\n",
            "3 ->  5\n",
            "4 ->  6\n",
            "5 ->  7\n"
          ]
        }
      ]
    },
    {
      "cell_type": "code",
      "source": [
        "num1 = [2,3,4,5,6,7]\n",
        "num2 = [9,10,11,12,13]\n",
        "\n",
        "for x, y in zip(num1, num2):\n",
        "  print(x,\"->\", y)"
      ],
      "metadata": {
        "colab": {
          "base_uri": "https://localhost:8080/"
        },
        "id": "CDKX8Dra46Nx",
        "outputId": "d7dafa7a-73b9-4b23-99cd-e659f7f25951"
      },
      "execution_count": null,
      "outputs": [
        {
          "output_type": "stream",
          "name": "stdout",
          "text": [
            "2 -> 9\n",
            "3 -> 10\n",
            "4 -> 11\n",
            "5 -> 12\n",
            "6 -> 13\n"
          ]
        }
      ]
    },
    {
      "cell_type": "code",
      "source": [
        "num1 = [2,4,9,6,7,3]\n",
        "num1.reverse()\n",
        "print(num1)"
      ],
      "metadata": {
        "colab": {
          "base_uri": "https://localhost:8080/"
        },
        "id": "vyyKxatV5QYB",
        "outputId": "f842b0a6-69b5-4750-e529-123e7192f390"
      },
      "execution_count": null,
      "outputs": [
        {
          "output_type": "stream",
          "name": "stdout",
          "text": [
            "[3, 7, 6, 9, 4, 2]\n"
          ]
        }
      ]
    },
    {
      "cell_type": "code",
      "source": [
        "num1 = [2,4,9,6,7,3]\n",
        "num1.sort()\n",
        "print(num1)"
      ],
      "metadata": {
        "colab": {
          "base_uri": "https://localhost:8080/"
        },
        "id": "qaDkZ-lR5xsy",
        "outputId": "47cac185-a4b4-4497-a404-d55b72360240"
      },
      "execution_count": null,
      "outputs": [
        {
          "output_type": "stream",
          "name": "stdout",
          "text": [
            "[2, 3, 4, 6, 7, 9]\n"
          ]
        }
      ]
    },
    {
      "cell_type": "code",
      "source": [
        "num1 = [2,4,9,6,7,3]\n",
        "num1.sort(reverse=True)\n",
        "print(num1)"
      ],
      "metadata": {
        "colab": {
          "base_uri": "https://localhost:8080/"
        },
        "id": "gG0wVQjh52ch",
        "outputId": "515dd473-d025-4f44-b641-f29ccaf534f6"
      },
      "execution_count": null,
      "outputs": [
        {
          "output_type": "stream",
          "name": "stdout",
          "text": [
            "[9, 7, 6, 4, 3, 2]\n"
          ]
        }
      ]
    },
    {
      "cell_type": "markdown",
      "source": [
        "String reverse with or without lamda"
      ],
      "metadata": {
        "id": "iPYMVCw3LTC7"
      }
    },
    {
      "cell_type": "code",
      "source": [
        "arr= [\"bob\",\"alice\",\"jane\",\"doe\"]\n",
        "print(arr)\n",
        "arr.sort()\n",
        "print(arr)"
      ],
      "metadata": {
        "colab": {
          "base_uri": "https://localhost:8080/"
        },
        "id": "0OfTvGIdLW6N",
        "outputId": "f30e3383-0ceb-4c71-8b8f-e698d7b6fc37"
      },
      "execution_count": null,
      "outputs": [
        {
          "output_type": "stream",
          "name": "stdout",
          "text": [
            "['bob', 'alice', 'jane', 'doe']\n",
            "['alice', 'bob', 'doe', 'jane']\n"
          ]
        }
      ]
    },
    {
      "cell_type": "code",
      "source": [
        "arr= [\"bob\",\"alice\",\"jane\",\"doe\"]\n",
        "arr.sort(key=lambda x:len(x))\n",
        "print(arr)"
      ],
      "metadata": {
        "colab": {
          "base_uri": "https://localhost:8080/"
        },
        "id": "TiFgAfLeLpLr",
        "outputId": "b153e114-56e6-46cd-c15f-54a91d3d5ea0"
      },
      "execution_count": null,
      "outputs": [
        {
          "output_type": "stream",
          "name": "stdout",
          "text": [
            "['bob', 'doe', 'jane', 'alice']\n"
          ]
        }
      ]
    },
    {
      "cell_type": "markdown",
      "source": [
        "List Comprehensions"
      ],
      "metadata": {
        "id": "LVrkoDPAL6Ek"
      }
    },
    {
      "cell_type": "code",
      "source": [
        "arr = [i for i in range(5)]\n",
        "print(arr)"
      ],
      "metadata": {
        "colab": {
          "base_uri": "https://localhost:8080/"
        },
        "id": "zM22VRIlL-O9",
        "outputId": "90a7e684-3407-43db-da72-ac0194fc6cab"
      },
      "execution_count": null,
      "outputs": [
        {
          "output_type": "stream",
          "name": "stdout",
          "text": [
            "[0, 1, 2, 3, 4]\n"
          ]
        }
      ]
    },
    {
      "cell_type": "code",
      "source": [
        "arr = [[0]*4 for i in range(4)]\n",
        "print(arr)"
      ],
      "metadata": {
        "colab": {
          "base_uri": "https://localhost:8080/"
        },
        "id": "Tv8LCcuPMT8T",
        "outputId": "634f7b1a-3ab0-47b8-92ac-0c1f4e82ff7c"
      },
      "execution_count": null,
      "outputs": [
        {
          "output_type": "stream",
          "name": "stdout",
          "text": [
            "[[0, 0, 0, 0], [0, 0, 0, 0], [0, 0, 0, 0], [0, 0, 0, 0]]\n"
          ]
        }
      ]
    },
    {
      "cell_type": "markdown",
      "source": [
        "String Operations"
      ],
      "metadata": {
        "id": "IuWZTVTaMxQU"
      }
    },
    {
      "cell_type": "code",
      "source": [
        "s = \"abc\"\n",
        "print(s[0:2])\n",
        "s += \"def\"\n",
        "print(s)"
      ],
      "metadata": {
        "colab": {
          "base_uri": "https://localhost:8080/"
        },
        "id": "5ogRSb5oM04l",
        "outputId": "7fe42910-67f7-427d-fc68-5bfc5791de3c"
      },
      "execution_count": null,
      "outputs": [
        {
          "output_type": "stream",
          "name": "stdout",
          "text": [
            "ab\n",
            "abcdef\n"
          ]
        }
      ]
    },
    {
      "cell_type": "code",
      "source": [
        "print(int(\"123\"))\n",
        "print(str(123))"
      ],
      "metadata": {
        "colab": {
          "base_uri": "https://localhost:8080/"
        },
        "id": "fFB-lx15NFJk",
        "outputId": "fb658be9-f333-43f2-8f76-84cdcf060e5c"
      },
      "execution_count": null,
      "outputs": [
        {
          "output_type": "stream",
          "name": "stdout",
          "text": [
            "123\n",
            "123\n"
          ]
        }
      ]
    },
    {
      "cell_type": "code",
      "source": [
        "#Ascii value\n",
        "print(ord('A'))"
      ],
      "metadata": {
        "colab": {
          "base_uri": "https://localhost:8080/"
        },
        "id": "i_FA--VdNb8k",
        "outputId": "4270e6a9-40ad-4e29-f332-ed2e8fd89b4a"
      },
      "execution_count": null,
      "outputs": [
        {
          "output_type": "stream",
          "name": "stdout",
          "text": [
            "65\n"
          ]
        }
      ]
    },
    {
      "cell_type": "markdown",
      "source": [
        "String Joinings"
      ],
      "metadata": {
        "id": "wQ03xiI4NT0k"
      }
    },
    {
      "cell_type": "code",
      "source": [
        "strings = [\"ab\", \"cd\", \"ef\"]\n",
        "print(\"\".join(strings))"
      ],
      "metadata": {
        "colab": {
          "base_uri": "https://localhost:8080/"
        },
        "id": "U07gxhuINXS2",
        "outputId": "c2018652-fe38-4fea-b9c4-12c73205ec9c"
      },
      "execution_count": null,
      "outputs": [
        {
          "output_type": "stream",
          "name": "stdout",
          "text": [
            "abcdef\n"
          ]
        }
      ]
    },
    {
      "cell_type": "markdown",
      "source": [
        "Queues"
      ],
      "metadata": {
        "id": "gR-4i1xEUgiH"
      }
    },
    {
      "cell_type": "code",
      "source": [
        "from collections import deque\n",
        "queue = deque()\n",
        "queue.append(1) #Left 1\n",
        "queue.append(2) # 1 2\n",
        "print(queue) # 1 2\n",
        "queue.popleft() # 2\n",
        "print(queue)#2\n",
        "queue.appendleft(1)#1 2\n",
        "print(queue)#1 2\n",
        "queue.pop()#1\n",
        "print(queue)#1\n"
      ],
      "metadata": {
        "colab": {
          "base_uri": "https://localhost:8080/"
        },
        "id": "spgxDRKIUlVW",
        "outputId": "b8cd4d7b-d24e-4ea5-cd43-229997ef0d35"
      },
      "execution_count": null,
      "outputs": [
        {
          "output_type": "stream",
          "name": "stdout",
          "text": [
            "deque([1, 2])\n",
            "deque([2])\n",
            "deque([1, 2])\n",
            "deque([1])\n"
          ]
        }
      ]
    },
    {
      "cell_type": "markdown",
      "source": [
        "HashSets"
      ],
      "metadata": {
        "id": "xW_BKtYCVgMm"
      }
    },
    {
      "cell_type": "code",
      "source": [
        "myset = set()\n",
        "myset.add(1)\n",
        "myset.add(2)\n",
        "print(myset)\n",
        "print(len(myset))\n",
        "print(1 in myset)\n",
        "print(2 in myset)\n",
        "print(3 in myset)\n",
        "myset.remove(2)\n",
        "print(2 in myset)\n",
        "#List to set\n",
        "print(set([1,2,3]))\n",
        "#set comprehensions\n",
        "myset = {i for i in range(5)}\n",
        "print(myset)\n"
      ],
      "metadata": {
        "colab": {
          "base_uri": "https://localhost:8080/"
        },
        "id": "EUvI2iHVVjCW",
        "outputId": "f243e89f-e34d-4fac-b73c-cebee48f26ea"
      },
      "execution_count": null,
      "outputs": [
        {
          "output_type": "stream",
          "name": "stdout",
          "text": [
            "{1, 2}\n",
            "2\n",
            "True\n",
            "True\n",
            "False\n",
            "False\n",
            "{1, 2, 3}\n",
            "{0, 1, 2, 3, 4}\n"
          ]
        }
      ]
    },
    {
      "cell_type": "markdown",
      "source": [
        "HashMap"
      ],
      "metadata": {
        "id": "awnVfGTOWcln"
      }
    },
    {
      "cell_type": "code",
      "source": [
        "myMap= {}\n",
        "myMap['Alice'] = 30\n",
        "myMap['bob'] = 33\n",
        "print(myMap)\n",
        "myMap['Alice'] = 77\n",
        "print(myMap['Alice'] )\n",
        "print('Alice' in myMap)\n",
        "myMap = {\"Alice\":10, \"Bob\": 20}\n",
        "print(myMap)\n",
        "#Comprehension\n",
        "myMap= {i:2*i for i in range(1,6,2)}\n",
        "print(myMap)\n",
        "\n",
        "myMap = {\"Alice\":12, \"Bob\": 22}\n",
        "#Key\n",
        "for key in myMap:\n",
        "  print(key, myMap[key])\n",
        "#Values\n",
        "for val in myMap.values():\n",
        "  print(val)\n",
        "#Key, Values\n",
        "for key, val in myMap.items():\n",
        "  print(key, val)"
      ],
      "metadata": {
        "colab": {
          "base_uri": "https://localhost:8080/"
        },
        "id": "S-hDrSjzWewQ",
        "outputId": "e2ed41f0-a1db-44ce-a555-eab5ca1b9ee3"
      },
      "execution_count": null,
      "outputs": [
        {
          "output_type": "stream",
          "name": "stdout",
          "text": [
            "{'Alice': 30, 'bob': 33}\n",
            "77\n",
            "True\n",
            "{'Alice': 10, 'Bob': 20}\n",
            "{1: 2, 3: 6, 5: 10}\n",
            "Alice 12\n",
            "Bob 22\n",
            "12\n",
            "22\n",
            "Alice 12\n",
            "Bob 22\n"
          ]
        }
      ]
    },
    {
      "cell_type": "markdown",
      "source": [
        "Tuples"
      ],
      "metadata": {
        "id": "frAol3fhU__v"
      }
    },
    {
      "cell_type": "code",
      "source": [
        "tup=(1,2,3)\n",
        "print(tup)\n",
        "#First Element\n",
        "print(tup[0])\n",
        "#Last Element\n",
        "print(tup[-1])\n",
        "\n",
        "#tup[0] = -1 we can not modify like this\n",
        "#Use as a key in hashmap or in set\n",
        "myMap={(1,2):3}\n",
        "mySet=set()\n",
        "mySet.add((1,2))#Set element\n",
        "print((1,2) in mySet)\n",
        "#Important info is we can not use list as keys"
      ],
      "metadata": {
        "colab": {
          "base_uri": "https://localhost:8080/"
        },
        "id": "tNpUAFiuVCfw",
        "outputId": "58384c73-75c8-4fcf-ac67-a29446213ad0"
      },
      "execution_count": 7,
      "outputs": [
        {
          "output_type": "stream",
          "name": "stdout",
          "text": [
            "(1, 2, 3)\n",
            "1\n",
            "3\n",
            "True\n"
          ]
        }
      ]
    },
    {
      "cell_type": "markdown",
      "source": [
        "Heaps"
      ],
      "metadata": {
        "id": "Tt3LH1NbWoIb"
      }
    },
    {
      "cell_type": "code",
      "source": [
        "import heapq\n",
        "\n",
        "minHeap=[]\n",
        "heapq.heappush(minHeap,3)\n",
        "heapq.heappush(minHeap,2)\n",
        "heapq.heappush(minHeap,4)\n",
        "print(minHeap)#minimum element if minHeap[0]\n",
        "print(\"Min element is: \", minHeap[0])\n",
        "print(\"Min Heap Traverse:\")\n",
        "while len(minHeap):\n",
        "  print(heapq.heappop(minHeap))\n",
        "\n",
        "maxHeap=[]\n",
        "heapq.heappush(maxHeap,-3)\n",
        "heapq.heappush(maxHeap,-2)\n",
        "heapq.heappush(maxHeap,-4)\n",
        "print(\"Max element is: \",-1*maxHeap[0])\n",
        "print(\"Max Heap Traverse:\")\n",
        "while len(maxHeap):\n",
        "  print(-1*heapq.heappop(maxHeap))\n",
        "print(\"Heapify Values: \")\n",
        "#Heapify\n",
        "arr = [i for i in range(1,5)]\n",
        "heapq.heapify(arr)\n",
        "while len(arr):\n",
        "  print(heapq.heappop(arr))"
      ],
      "metadata": {
        "colab": {
          "base_uri": "https://localhost:8080/"
        },
        "id": "tQloUwUuWqcZ",
        "outputId": "c6876550-b8fa-4173-b4cc-067c6158d2e2"
      },
      "execution_count": 20,
      "outputs": [
        {
          "output_type": "stream",
          "name": "stdout",
          "text": [
            "[2, 3, 4]\n",
            "Min element is:  2\n",
            "Min Heap Traverse:\n",
            "2\n",
            "3\n",
            "4\n",
            "Max element is:  4\n",
            "Max Heap Traverse:\n",
            "4\n",
            "3\n",
            "2\n",
            "Heapify Values: \n",
            "1\n",
            "2\n",
            "3\n",
            "4\n"
          ]
        }
      ]
    },
    {
      "cell_type": "markdown",
      "source": [
        "Python Functions"
      ],
      "metadata": {
        "id": "IZYdpVtJZN76"
      }
    },
    {
      "cell_type": "code",
      "source": [
        "def multiply(n,m):\n",
        "  return n*m\n",
        "print(multiply(3,4))\n",
        "\n",
        "#Neasted Functions\n",
        "\n",
        "def outer(a,b):\n",
        "  c = 'c'\n",
        "  def inner():\n",
        "    return a + b + c\n",
        "  return inner()\n",
        "\n",
        "print(outer('a','b'))\n",
        "\n",
        "#Local change vs nolocal change\n",
        "def outer_local(a,b):\n",
        "  c = 'C'\n",
        "  def inner():\n",
        "    nonlocal a, b\n",
        "    a='A'\n",
        "    b='B'\n",
        "    return a + b + c\n",
        "  return inner()\n",
        "\n",
        "print(outer_local('a','b'))"
      ],
      "metadata": {
        "colab": {
          "base_uri": "https://localhost:8080/"
        },
        "id": "McRQxt04ZQdM",
        "outputId": "a9c56451-7648-4c64-bac0-cda405c27fe5"
      },
      "execution_count": 25,
      "outputs": [
        {
          "output_type": "stream",
          "name": "stdout",
          "text": [
            "12\n",
            "abc\n",
            "ABC\n"
          ]
        }
      ]
    },
    {
      "cell_type": "markdown",
      "source": [
        "Classes"
      ],
      "metadata": {
        "id": "2tTEGgy_az8R"
      }
    },
    {
      "cell_type": "code",
      "source": [
        "class MyClass:\n",
        "  #constractor\n",
        "  def __init__(self,nums):\n",
        "    self.nums = nums\n",
        "    self.size = len(nums)\n",
        "\n",
        "  def getLength(self):\n",
        "    return self.size\n",
        "  def doubleLength(self):\n",
        "    return 2 * self.getLength()\n",
        "myObj = MyClass([1,2,3])\n",
        "print(myObj.getLength())\n",
        "print(myObj.doubleLength())"
      ],
      "metadata": {
        "colab": {
          "base_uri": "https://localhost:8080/"
        },
        "id": "Fz_UIvTga2qx",
        "outputId": "95507b03-de5d-436c-9c9c-cf3f2ea6bf5a"
      },
      "execution_count": 27,
      "outputs": [
        {
          "output_type": "stream",
          "name": "stdout",
          "text": [
            "3\n",
            "6\n"
          ]
        }
      ]
    }
  ]
}