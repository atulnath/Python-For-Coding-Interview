{
  "nbformat": 4,
  "nbformat_minor": 0,
  "metadata": {
    "colab": {
      "provenance": [],
      "authorship_tag": "ABX9TyOA9LxW7QK1tCTwIAwro+Yu",
      "include_colab_link": true
    },
    "kernelspec": {
      "name": "python3",
      "display_name": "Python 3"
    },
    "language_info": {
      "name": "python"
    }
  },
  "cells": [
    {
      "cell_type": "markdown",
      "metadata": {
        "id": "view-in-github",
        "colab_type": "text"
      },
      "source": [
        "<a href=\"https://colab.research.google.com/github/atulnath/Python-For-Coding-Interview/blob/main/python_practice_17_05_2025.ipynb\" target=\"_parent\"><img src=\"https://colab.research.google.com/assets/colab-badge.svg\" alt=\"Open In Colab\"/></a>"
      ]
    },
    {
      "cell_type": "code",
      "execution_count": 1,
      "metadata": {
        "colab": {
          "base_uri": "https://localhost:8080/"
        },
        "id": "Q8Ik34dappBV",
        "outputId": "2f5b23b1-97cc-4cc1-94c6-61d323ecec71"
      },
      "outputs": [
        {
          "output_type": "stream",
          "name": "stdout",
          "text": [
            "[0, 1, 4, 9, 16]\n"
          ]
        }
      ],
      "source": [
        "squares = []\n",
        "\n",
        "for i in range(5):\n",
        "  squares.append(i**2)\n",
        "print(squares)"
      ]
    },
    {
      "cell_type": "markdown",
      "source": [
        "**we can do it in one line using comprehensions**"
      ],
      "metadata": {
        "id": "64VVaB81qEEp"
      }
    },
    {
      "cell_type": "code",
      "source": [
        "print([ x**2 for x in range(5)])"
      ],
      "metadata": {
        "colab": {
          "base_uri": "https://localhost:8080/"
        },
        "id": "DPN2Ysd_qKzJ",
        "outputId": "918d6703-73be-47d3-f0ba-1a7981c071d9"
      },
      "execution_count": 2,
      "outputs": [
        {
          "output_type": "stream",
          "name": "stdout",
          "text": [
            "[0, 1, 4, 9, 16]\n"
          ]
        }
      ]
    },
    {
      "cell_type": "markdown",
      "source": [
        "# Slicing"
      ],
      "metadata": {
        "id": "srxyo1icqWuw"
      }
    },
    {
      "cell_type": "code",
      "source": [
        "nums = list(range(1,6))\n",
        "print(nums)\n",
        "print(nums[:2])\n",
        "print(nums[::-1])"
      ],
      "metadata": {
        "colab": {
          "base_uri": "https://localhost:8080/"
        },
        "id": "ruuNM76aqY0p",
        "outputId": "9e3552d6-87bb-4369-d5a1-26cd9a2fd891"
      },
      "execution_count": 7,
      "outputs": [
        {
          "output_type": "stream",
          "name": "stdout",
          "text": [
            "[1, 2, 3, 4, 5]\n",
            "[1, 2]\n",
            "[5, 4, 3, 2, 1]\n"
          ]
        }
      ]
    },
    {
      "cell_type": "markdown",
      "source": [
        "# Swaping"
      ],
      "metadata": {
        "id": "vtO4BfjDqwPS"
      }
    },
    {
      "cell_type": "code",
      "source": [
        "arr=[1,2,3]\n",
        "arr[0], arr[1]= arr[1],arr[0]\n",
        "print(arr)"
      ],
      "metadata": {
        "colab": {
          "base_uri": "https://localhost:8080/"
        },
        "id": "3NqPC3eoqyKo",
        "outputId": "79ccc71e-0ee9-4018-f8c9-9566fe47b105"
      },
      "execution_count": 8,
      "outputs": [
        {
          "output_type": "stream",
          "name": "stdout",
          "text": [
            "[2, 1, 3]\n"
          ]
        }
      ]
    },
    {
      "cell_type": "markdown",
      "source": [
        "# Dictionary"
      ],
      "metadata": {
        "id": "ys5v3AMUrG_8"
      }
    },
    {
      "cell_type": "code",
      "source": [
        "count = {} #dictionary\n",
        "\n",
        "for char in \"Hello\":\n",
        "  count[char] = count.get(char,0)+1 #set default value if item not exist + 1\n",
        "print(count)"
      ],
      "metadata": {
        "colab": {
          "base_uri": "https://localhost:8080/"
        },
        "id": "7OR2UWgDrJWg",
        "outputId": "3446b014-0932-4b5b-84d8-4dd9a7555b6e"
      },
      "execution_count": 10,
      "outputs": [
        {
          "output_type": "stream",
          "name": "stdout",
          "text": [
            "{'H': 1, 'e': 1, 'l': 2, 'o': 1}\n"
          ]
        }
      ]
    },
    {
      "cell_type": "markdown",
      "source": [
        "create dictionary using comprehensions"
      ],
      "metadata": {
        "id": "ji8Fh50urxAi"
      }
    },
    {
      "cell_type": "code",
      "source": [
        "num=list(range(1,4))\n",
        "print(num)\n",
        "\n",
        "#dictionary\n",
        "\n",
        "print({x:y for y,x in enumerate(nums)})"
      ],
      "metadata": {
        "colab": {
          "base_uri": "https://localhost:8080/"
        },
        "id": "a3DM4E45r08Q",
        "outputId": "7f3e6881-b333-4d24-e987-4b4b61d359bc"
      },
      "execution_count": 14,
      "outputs": [
        {
          "output_type": "stream",
          "name": "stdout",
          "text": [
            "[1, 2, 3]\n",
            "{1: 0, 2: 1, 3: 2, 4: 3, 5: 4}\n"
          ]
        }
      ]
    },
    {
      "cell_type": "markdown",
      "source": [
        "# set Operations"
      ],
      "metadata": {
        "id": "cmYoGBckskk5"
      }
    },
    {
      "cell_type": "code",
      "source": [
        "s = set([1,2,2,4,5,4])\n",
        "print(s)\n",
        "s.add(5)\n",
        "print(s)\n",
        "s.remove(1)\n",
        "print(s)"
      ],
      "metadata": {
        "colab": {
          "base_uri": "https://localhost:8080/"
        },
        "id": "wdHqYUaosnNo",
        "outputId": "682d3b2b-dd1b-4976-c1f9-102de09fb523"
      },
      "execution_count": 21,
      "outputs": [
        {
          "output_type": "stream",
          "name": "stdout",
          "text": [
            "{1, 2, 4, 5}\n",
            "{1, 2, 4, 5}\n",
            "{2, 4, 5}\n"
          ]
        }
      ]
    },
    {
      "cell_type": "markdown",
      "source": [
        "# String manipulation"
      ],
      "metadata": {
        "id": "Jqig09OWtWZp"
      }
    },
    {
      "cell_type": "code",
      "source": [
        "s = \"A1 man, a plan!\"\n",
        "s.isalnum()\n",
        "''.join(c.lower() for c in s if c.isalnum())#remove space and only keep alphabets and numbers"
      ],
      "metadata": {
        "colab": {
          "base_uri": "https://localhost:8080/",
          "height": 35
        },
        "id": "WCXFUl6_tanw",
        "outputId": "3f081e26-5963-47f3-da09-d75d0ba6526f"
      },
      "execution_count": 29,
      "outputs": [
        {
          "output_type": "execute_result",
          "data": {
            "text/plain": [
              "'a1manaplan'"
            ],
            "application/vnd.google.colaboratory.intrinsic+json": {
              "type": "string"
            }
          },
          "metadata": {},
          "execution_count": 29
        }
      ]
    },
    {
      "cell_type": "markdown",
      "source": [
        "# Reverse String"
      ],
      "metadata": {
        "id": "bExLV36JuZfB"
      }
    },
    {
      "cell_type": "code",
      "source": [
        "s = \"A1 man, a plan!\"\n",
        "s[::-1]"
      ],
      "metadata": {
        "colab": {
          "base_uri": "https://localhost:8080/",
          "height": 35
        },
        "id": "gsjzMfxKucSR",
        "outputId": "9e73aeb0-a114-4849-a5f1-881afd5b798d"
      },
      "execution_count": 30,
      "outputs": [
        {
          "output_type": "execute_result",
          "data": {
            "text/plain": [
              "'!nalp a ,nam 1A'"
            ],
            "application/vnd.google.colaboratory.intrinsic+json": {
              "type": "string"
            }
          },
          "metadata": {},
          "execution_count": 30
        }
      ]
    },
    {
      "cell_type": "markdown",
      "source": [
        "# Counter to count"
      ],
      "metadata": {
        "id": "enxq_gLuumrB"
      }
    },
    {
      "cell_type": "code",
      "source": [
        "from collections import Counter\n",
        "\n",
        "dicts = Counter(\"Hello\") # return a dictionary\n",
        "'o' in dicts"
      ],
      "metadata": {
        "colab": {
          "base_uri": "https://localhost:8080/"
        },
        "id": "42AER8nJuqXg",
        "outputId": "e4e670ac-48a5-43c4-fe1a-2522f0e27aeb"
      },
      "execution_count": 35,
      "outputs": [
        {
          "output_type": "execute_result",
          "data": {
            "text/plain": [
              "True"
            ]
          },
          "metadata": {},
          "execution_count": 35
        }
      ]
    },
    {
      "cell_type": "markdown",
      "source": [
        "# Two Pointer Swap"
      ],
      "metadata": {
        "id": "uioC32FWvKqI"
      }
    },
    {
      "cell_type": "code",
      "source": [
        "nums = list(range(5))\n",
        "print(nums)\n",
        "\n",
        "left, right = 0, len(nums)-1\n",
        "\n",
        "while left < right:\n",
        "  nums[left], nums[right] =  nums[right] ,nums[left]\n",
        "  left += 1\n",
        "  right -=1\n",
        "nums"
      ],
      "metadata": {
        "colab": {
          "base_uri": "https://localhost:8080/"
        },
        "id": "XDmEShVovOeQ",
        "outputId": "dba4ae22-bd67-4222-a8d5-f8b9246670dc"
      },
      "execution_count": 38,
      "outputs": [
        {
          "output_type": "stream",
          "name": "stdout",
          "text": [
            "[0, 1, 2, 3, 4]\n"
          ]
        },
        {
          "output_type": "execute_result",
          "data": {
            "text/plain": [
              "[4, 3, 2, 1, 0]"
            ]
          },
          "metadata": {},
          "execution_count": 38
        }
      ]
    },
    {
      "cell_type": "markdown",
      "source": [
        "# Python Built in functions"
      ],
      "metadata": {
        "id": "EO8-1q4ev0Ki"
      }
    },
    {
      "cell_type": "code",
      "source": [
        "nums=[1,7,2,6,3]\n",
        "nums.sort()\n",
        "nums"
      ],
      "metadata": {
        "colab": {
          "base_uri": "https://localhost:8080/"
        },
        "id": "JweeRmVNv4og",
        "outputId": "be9b2383-22a1-4d44-b7e1-a3492e128793"
      },
      "execution_count": 39,
      "outputs": [
        {
          "output_type": "execute_result",
          "data": {
            "text/plain": [
              "[1, 2, 3, 6, 7]"
            ]
          },
          "metadata": {},
          "execution_count": 39
        }
      ]
    },
    {
      "cell_type": "code",
      "source": [
        "nums=[1,7,2,6,3]\n",
        "nums.sort(reverse=True)\n",
        "nums"
      ],
      "metadata": {
        "colab": {
          "base_uri": "https://localhost:8080/"
        },
        "id": "7u3IHh8XwFS4",
        "outputId": "6dda6897-75bf-4098-856f-c7c16936e567"
      },
      "execution_count": 40,
      "outputs": [
        {
          "output_type": "execute_result",
          "data": {
            "text/plain": [
              "[7, 6, 3, 2, 1]"
            ]
          },
          "metadata": {},
          "execution_count": 40
        }
      ]
    },
    {
      "cell_type": "markdown",
      "source": [
        "# max, min, sum"
      ],
      "metadata": {
        "id": "slf8MhhqwKNR"
      }
    },
    {
      "cell_type": "code",
      "source": [
        "nums=[1,7,2,6,3]\n",
        "\n",
        "print(max(nums))\n",
        "print(min(nums))\n",
        "print(sum(nums))"
      ],
      "metadata": {
        "colab": {
          "base_uri": "https://localhost:8080/"
        },
        "id": "ybxwAz2mwMrQ",
        "outputId": "e4ec5ca7-d89b-4642-f352-a0367d04ec28"
      },
      "execution_count": 41,
      "outputs": [
        {
          "output_type": "stream",
          "name": "stdout",
          "text": [
            "7\n",
            "1\n",
            "19\n"
          ]
        }
      ]
    },
    {
      "cell_type": "markdown",
      "source": [
        "# all vs any for conditions"
      ],
      "metadata": {
        "id": "ylG6cf08wXSB"
      }
    },
    {
      "cell_type": "code",
      "source": [
        "nums=[1,2,3]\n",
        "print(all(x >0 for x in nums)) # are all of them is grater than 0\n",
        "print(all(x >2 for x in nums)) # are all of them is grater than 0\n",
        "\n",
        "print(any(x >0 for x in nums)) # are any of them is grater than 0\n",
        "any(x >2 for x in nums) # are any of them is grater than 0"
      ],
      "metadata": {
        "colab": {
          "base_uri": "https://localhost:8080/"
        },
        "id": "ULh5yCPrwiro",
        "outputId": "0e6612e7-3946-4f91-c2aa-5ce47c2daaee"
      },
      "execution_count": 47,
      "outputs": [
        {
          "output_type": "stream",
          "name": "stdout",
          "text": [
            "True\n",
            "False\n",
            "True\n"
          ]
        },
        {
          "output_type": "execute_result",
          "data": {
            "text/plain": [
              "True"
            ]
          },
          "metadata": {},
          "execution_count": 47
        }
      ]
    },
    {
      "cell_type": "markdown",
      "source": [
        "# defaultdict"
      ],
      "metadata": {
        "id": "mrF8MGT-xKRq"
      }
    },
    {
      "cell_type": "code",
      "source": [
        "from collections import defaultdict\n",
        "\n",
        "d = defaultdict(int)\n",
        "#avoid key existance check\n",
        "d['a'] += 1\n",
        "d"
      ],
      "metadata": {
        "colab": {
          "base_uri": "https://localhost:8080/"
        },
        "id": "hhL0W_i9xV3U",
        "outputId": "c382cc15-4028-402a-a241-911acd18f2e7"
      },
      "execution_count": 50,
      "outputs": [
        {
          "output_type": "execute_result",
          "data": {
            "text/plain": [
              "defaultdict(int, {'a': 1})"
            ]
          },
          "metadata": {},
          "execution_count": 50
        }
      ]
    },
    {
      "cell_type": "markdown",
      "source": [
        "deques to add and remove from left and right, faster than list"
      ],
      "metadata": {
        "id": "PROzETLyxvqh"
      }
    },
    {
      "cell_type": "code",
      "source": [
        "from collections import deque\n",
        "\n",
        "que=deque([1,2,3])\n",
        "que.appendleft(7)\n",
        "que.popleft()\n",
        "que"
      ],
      "metadata": {
        "colab": {
          "base_uri": "https://localhost:8080/"
        },
        "id": "9niiqq0sx4fr",
        "outputId": "e1b2cc63-b067-411e-cd57-d91eccc61842"
      },
      "execution_count": 52,
      "outputs": [
        {
          "output_type": "execute_result",
          "data": {
            "text/plain": [
              "deque([1, 2, 3])"
            ]
          },
          "metadata": {},
          "execution_count": 52
        }
      ]
    }
  ]
}